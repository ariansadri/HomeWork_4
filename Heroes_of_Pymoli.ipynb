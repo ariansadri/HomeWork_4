{
 "cells": [
  {
   "cell_type": "code",
   "execution_count": 1,
   "metadata": {},
   "outputs": [],
   "source": [
    "# Dependencies and Setup\n",
    "import pandas as pd\n",
    "import numpy as np\n",
    "\n",
    "# File to Load (Remember to Change These)\n",
    "file_to_load = \"CSVFILES/purchase_data.csv\"\n",
    "\n",
    "# Read Purchasing File and store into Pandas data frame\n",
    "purchase_data = pd.read_csv(file_to_load)"
   ]
  },
  {
   "cell_type": "code",
   "execution_count": 2,
   "metadata": {},
   "outputs": [
    {
     "data": {
      "text/html": [
       "<div>\n",
       "<style scoped>\n",
       "    .dataframe tbody tr th:only-of-type {\n",
       "        vertical-align: middle;\n",
       "    }\n",
       "\n",
       "    .dataframe tbody tr th {\n",
       "        vertical-align: top;\n",
       "    }\n",
       "\n",
       "    .dataframe thead th {\n",
       "        text-align: right;\n",
       "    }\n",
       "</style>\n",
       "<table border=\"1\" class=\"dataframe\">\n",
       "  <thead>\n",
       "    <tr style=\"text-align: right;\">\n",
       "      <th></th>\n",
       "      <th>Total Players</th>\n",
       "    </tr>\n",
       "  </thead>\n",
       "  <tbody>\n",
       "    <tr>\n",
       "      <th>0</th>\n",
       "      <td>576</td>\n",
       "    </tr>\n",
       "  </tbody>\n",
       "</table>\n",
       "</div>"
      ],
      "text/plain": [
       "   Total Players\n",
       "0            576"
      ]
     },
     "execution_count": 2,
     "metadata": {},
     "output_type": "execute_result"
    }
   ],
   "source": [
    "unique_players = len(purchase_data[\"SN\"].unique())\n",
    "total_players_df = pd.DataFrame({\"Total Players\": [unique_players]})\n",
    "total_players_df"
   ]
  },
  {
   "cell_type": "code",
   "execution_count": 3,
   "metadata": {},
   "outputs": [
    {
     "data": {
      "text/html": [
       "<div>\n",
       "<style scoped>\n",
       "    .dataframe tbody tr th:only-of-type {\n",
       "        vertical-align: middle;\n",
       "    }\n",
       "\n",
       "    .dataframe tbody tr th {\n",
       "        vertical-align: top;\n",
       "    }\n",
       "\n",
       "    .dataframe thead th {\n",
       "        text-align: right;\n",
       "    }\n",
       "</style>\n",
       "<table border=\"1\" class=\"dataframe\">\n",
       "  <thead>\n",
       "    <tr style=\"text-align: right;\">\n",
       "      <th></th>\n",
       "      <th>Number of Unique Items</th>\n",
       "      <th>Average Price</th>\n",
       "      <th>Number of Purchases</th>\n",
       "      <th>Total Revenue</th>\n",
       "    </tr>\n",
       "  </thead>\n",
       "  <tbody>\n",
       "    <tr>\n",
       "      <th>0</th>\n",
       "      <td>183</td>\n",
       "      <td>$3.05</td>\n",
       "      <td>780</td>\n",
       "      <td>$2379.77</td>\n",
       "    </tr>\n",
       "  </tbody>\n",
       "</table>\n",
       "</div>"
      ],
      "text/plain": [
       "   Number of Unique Items Average Price  Number of Purchases Total Revenue\n",
       "0                     183         $3.05                  780      $2379.77"
      ]
     },
     "execution_count": 3,
     "metadata": {},
     "output_type": "execute_result"
    }
   ],
   "source": [
    "unique_items = len(purchase_data[\"Item ID\"].unique())\n",
    "average_price = purchase_data[\"Price\"].mean()\n",
    "average_price_rounded = round(average_price,2)\n",
    "number_of_purchases = purchase_data[\"Purchase ID\"].count()\n",
    "total_revenue = purchase_data[\"Price\"].sum()\n",
    "purchasing_analysis_df = pd.DataFrame({\"Number of Unique Items\": [unique_items],\n",
    "                                       \"Average Price\":\"$\"+str(average_price_rounded),\n",
    "                                       \"Number of Purchases\": [number_of_purchases],\n",
    "                                       \"Total Revenue\":\"$\"+str(total_revenue)})\n",
    "purchasing_analysis_df"
   ]
  },
  {
   "cell_type": "code",
   "execution_count": 4,
   "metadata": {},
   "outputs": [
    {
     "data": {
      "text/html": [
       "<div>\n",
       "<style scoped>\n",
       "    .dataframe tbody tr th:only-of-type {\n",
       "        vertical-align: middle;\n",
       "    }\n",
       "\n",
       "    .dataframe tbody tr th {\n",
       "        vertical-align: top;\n",
       "    }\n",
       "\n",
       "    .dataframe thead th {\n",
       "        text-align: right;\n",
       "    }\n",
       "</style>\n",
       "<table border=\"1\" class=\"dataframe\">\n",
       "  <thead>\n",
       "    <tr style=\"text-align: right;\">\n",
       "      <th></th>\n",
       "      <th>Total Count</th>\n",
       "      <th>Percentage of Players</th>\n",
       "    </tr>\n",
       "  </thead>\n",
       "  <tbody>\n",
       "    <tr>\n",
       "      <th>Male</th>\n",
       "      <td>484</td>\n",
       "      <td>84.03</td>\n",
       "    </tr>\n",
       "    <tr>\n",
       "      <th>Female</th>\n",
       "      <td>81</td>\n",
       "      <td>14.06</td>\n",
       "    </tr>\n",
       "    <tr>\n",
       "      <th>Other / Non-Disclosed</th>\n",
       "      <td>11</td>\n",
       "      <td>1.91</td>\n",
       "    </tr>\n",
       "  </tbody>\n",
       "</table>\n",
       "</div>"
      ],
      "text/plain": [
       "                       Total Count  Percentage of Players\n",
       "Male                           484                  84.03\n",
       "Female                          81                  14.06\n",
       "Other / Non-Disclosed           11                   1.91"
      ]
     },
     "execution_count": 4,
     "metadata": {},
     "output_type": "execute_result"
    }
   ],
   "source": [
    "unique_gender_count = purchase_data.drop_duplicates(subset=\"SN\",keep ='first')\n",
    "gender_count = unique_gender_count[\"Gender\"].value_counts()\n",
    "percent_of_players = (gender_count / unique_players)*100\n",
    "percent_of_players_rounded = round(percent_of_players,2)\n",
    "gender_demographics_df = pd.DataFrame({\"Total Count\":gender_count,\n",
    "                                       \"Percentage of Players\":percent_of_players_rounded})\n",
    "gender_demographics_df"
   ]
  },
  {
   "cell_type": "code",
   "execution_count": 5,
   "metadata": {},
   "outputs": [
    {
     "data": {
      "text/html": [
       "<div>\n",
       "<style scoped>\n",
       "    .dataframe tbody tr th:only-of-type {\n",
       "        vertical-align: middle;\n",
       "    }\n",
       "\n",
       "    .dataframe tbody tr th {\n",
       "        vertical-align: top;\n",
       "    }\n",
       "\n",
       "    .dataframe thead th {\n",
       "        text-align: right;\n",
       "    }\n",
       "</style>\n",
       "<table border=\"1\" class=\"dataframe\">\n",
       "  <thead>\n",
       "    <tr style=\"text-align: right;\">\n",
       "      <th></th>\n",
       "      <th>Purchase Count</th>\n",
       "      <th>Average Purchase Count</th>\n",
       "      <th>Total Purchase Price</th>\n",
       "      <th>Avg Total Purchase per Person</th>\n",
       "    </tr>\n",
       "    <tr>\n",
       "      <th>Gender</th>\n",
       "      <th></th>\n",
       "      <th></th>\n",
       "      <th></th>\n",
       "      <th></th>\n",
       "    </tr>\n",
       "  </thead>\n",
       "  <tbody>\n",
       "    <tr>\n",
       "      <th>Female</th>\n",
       "      <td>113</td>\n",
       "      <td>3.20</td>\n",
       "      <td>361.94</td>\n",
       "      <td>4.47</td>\n",
       "    </tr>\n",
       "    <tr>\n",
       "      <th>Male</th>\n",
       "      <td>652</td>\n",
       "      <td>3.02</td>\n",
       "      <td>1967.64</td>\n",
       "      <td>4.07</td>\n",
       "    </tr>\n",
       "    <tr>\n",
       "      <th>Other / Non-Disclosed</th>\n",
       "      <td>15</td>\n",
       "      <td>3.35</td>\n",
       "      <td>50.19</td>\n",
       "      <td>4.56</td>\n",
       "    </tr>\n",
       "  </tbody>\n",
       "</table>\n",
       "</div>"
      ],
      "text/plain": [
       "                       Purchase Count  Average Purchase Count  \\\n",
       "Gender                                                          \n",
       "Female                            113                    3.20   \n",
       "Male                              652                    3.02   \n",
       "Other / Non-Disclosed              15                    3.35   \n",
       "\n",
       "                       Total Purchase Price  Avg Total Purchase per Person  \n",
       "Gender                                                                      \n",
       "Female                               361.94                           4.47  \n",
       "Male                                1967.64                           4.07  \n",
       "Other / Non-Disclosed                 50.19                           4.56  "
      ]
     },
     "execution_count": 5,
     "metadata": {},
     "output_type": "execute_result"
    }
   ],
   "source": [
    "gender_purchases = purchase_data.groupby(\"Gender\")[\"Item Name\"]\n",
    "gedner_purchase_count = gender_purchases.count()\n",
    "gender_purchase_price_average = purchase_data.groupby(\"Gender\")[\"Price\"].mean()\n",
    "gender_purchase_price_average_rounded = round(gender_purchase_price_average,2)\n",
    "gender_purchase_total = purchase_data.groupby(\"Gender\")[\"Price\"].sum()\n",
    "avg_total_by_gender = gender_purchase_total/gender_count\n",
    "avg_total_by_gender = round(gender_purchase_total/gender_count,2)\n",
    "\n",
    "purchasing_analysis_gender = pd.DataFrame({\"Purchase Count\":gedner_purchase_count,\n",
    "                                           \"Average Purchase Count\": gender_purchase_price_average_rounded,\n",
    "                                           \"Total Purchase Price\":gender_purchase_total,\n",
    "                                           \"Avg Total Purchase per Person\":avg_total_by_gender})\n",
    "purchasing_analysis_gender"
   ]
  },
  {
   "cell_type": "code",
   "execution_count": null,
   "metadata": {},
   "outputs": [],
   "source": [
    "bins = [0,9,14,19,24,29,34,39,46]\n",
    "#bins= [0,11,16,21,26,31,36,41,46]\n",
    "#bins = [0,10,15,20,25,30,35,40,45]\n",
    "group_names = [\"<10\",\"10-14\",\"15-19\",\"20-24\",\"25-29\",\"30-34\",\"35-39\",\"40+\"]\n",
    "adding_bins = pd.cut(unique_gender_count[\"Age\"], bins, labels=group_names)\n",
    "total_bin_values= adding_bins.value_counts()\n",
    "purchase_data[\"Range of Ages\"] = pd.cut(purchase_data[\"Age\"], bins, labels=group_names)\n",
    "percent_of_players = round((total_bin_values/unique_players)*100,2)\n",
    "age_demographics = pd.DataFrame({\"Total Count\":total_bin_values,\"Percentage of Players\": percent_of_players})\n",
    "age_demographics"
   ]
  },
  {
   "cell_type": "code",
   "execution_count": null,
   "metadata": {},
   "outputs": [],
   "source": [
    "purchase_count_bins = purchase_data.groupby(\"Range of Ages\")[\"Item Name\"].count()\n",
    "average_purchase_price_bins = round(purchase_data.groupby(\"Range of Ages\")[\"Price\"].mean(),2)\n",
    "total_purchase_value_bins = purchase_data.groupby(\"Range of Ages\")[\"Price\"].sum()\n",
    "avg_total_purchase_per_person = round(total_purchase_value_bins/ total_bin_values,2)\n",
    "purchasing_analysis = pd.DataFrame({\"Purchase Count\":purchase_count_bins,\n",
    "                                    \"Average Purchase Price\":average_purchase_price_bins,\n",
    "                                    \"Total Purchase Value:\":total_purchase_value_bins,\n",
    "                                    \"Avg Total Purchase per Person\":avg_total_purchase_per_person})\n",
    "purchasing_analysis"
   ]
  },
  {
   "cell_type": "code",
   "execution_count": null,
   "metadata": {},
   "outputs": [],
   "source": [
    "top_spender_count = purchase_data.groupby(\"SN\")[\"Item ID\"].count()\n",
    "top_spender_average = round(purchase_data.groupby(\"SN\")[\"Price\"].mean(),2)\n",
    "top_spender_total_purchase = purchase_data.groupby(\"SN\")[\"Price\"].sum()\n",
    "top_spender_df = pd.DataFrame({\"Purchase Count\":top_spender_count,\n",
    "                               \"Average Purchase Price\":top_spender_average,\n",
    "                               \"Total Purchase Value\":top_spender_total_purchase})\n",
    "top_spender_df.sort_values(\"Total Purchase Value\",ascending = False).head()"
   ]
  },
  {
   "cell_type": "code",
   "execution_count": null,
   "metadata": {},
   "outputs": [],
   "source": [
    "popular_purchase_count = purchase_data.groupby([\"Item ID\", \"Item Name\"])[\"Item ID\"].count()\n",
    "popular_item_price = round(purchase_data.groupby([\"Item ID\", \"Item Name\"])[\"Price\"].mean(),2)\n",
    "popular_item_total = purchase_data.groupby([\"Item ID\", \"Item Name\"])[\"Price\"].sum()\n",
    "most_popular_item_df = pd.DataFrame({\"Purchase Count\":popular_purchase_count,\n",
    "                               \"Item Price\":popular_item_price,\n",
    "                               \"Total Purchase Value\":popular_item_total})\n",
    "\n",
    "most_popular_item_df.sort_values(\"Purchase Count\",ascending = False).head()"
   ]
  },
  {
   "cell_type": "code",
   "execution_count": null,
   "metadata": {},
   "outputs": [],
   "source": [
    "most_popular_item_df.sort_values(\"Total Purchase Value\",ascending = False).head()"
   ]
  },
  {
   "cell_type": "code",
   "execution_count": null,
   "metadata": {},
   "outputs": [],
   "source": []
  },
  {
   "cell_type": "code",
   "execution_count": null,
   "metadata": {},
   "outputs": [],
   "source": []
  }
 ],
 "metadata": {
  "kernelspec": {
   "display_name": "Python 3",
   "language": "python",
   "name": "python3"
  },
  "language_info": {
   "codemirror_mode": {
    "name": "ipython",
    "version": 3
   },
   "file_extension": ".py",
   "mimetype": "text/x-python",
   "name": "python",
   "nbconvert_exporter": "python",
   "pygments_lexer": "ipython3",
   "version": "3.7.3"
  }
 },
 "nbformat": 4,
 "nbformat_minor": 2
}
